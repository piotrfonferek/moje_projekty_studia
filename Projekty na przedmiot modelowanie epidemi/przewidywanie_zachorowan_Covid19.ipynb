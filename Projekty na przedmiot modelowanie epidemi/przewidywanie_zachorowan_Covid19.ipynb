{
 "cells": [
  {
   "cell_type": "markdown",
   "metadata": {},
   "source": [
    "## Autorzy\n",
    "Piotr Fonferek s185514, Grzegorz Łucki s185535"
   ]
  },
  {
   "cell_type": "markdown",
   "metadata": {},
   "source": [
    "# Raport\n",
    "Cel projektu: \n",
    "Naszym celem jest zaprognozowanie całkowitej liczby zachorowań w Polsce na Covid-19 w dniach 20-26.04.2023 na podstawie historycznych danych (wybraliśmy sobie dane do 13.04.2023).<br>\n",
    "\n",
    "Metodologia:<br>\n",
    "prognozujemy ilość zachorowań na bazie własnych spostrzeżeń. Zauważyliśmy, że funkcja zakażeń zachowuje się okresowo - liczba zachorowań rośnie jesienię i wiosną, a maleje latem oraz zimą. Chcemy zatem przenieść tempo zmian zachorowań z tego samego okresu z poprzedniego roku i odpowiednio je przeskalować do aktualnych danych. Dodatkowo prognozy dokonujemy dla każdego dnia osobno, tj. czwartki prognozujemy tylko na podstawie czwartków itd.<br>\n",
    "<br>\n",
    "<br>\n",
    "\n",
    "\n",
    "Opis działania kodu:<br>\n",
    "1) wczytanie ogólnej liczby zakażeń do tablicy liczba_przypadkow<br>\n",
    "2)podzielenie danych z tablicy liczba_przypadkow na poszczególne dni tygodnia<br>\n",
    "następnie dla kazdego dnia tygodnia:<br>\n",
    "3)policzenie średniej z 8 tygodni z przedniego roku<br>\n",
    "4)policzenie współczynnika a_dzien_tygodnia - odpowiedzialny za tempo wzrostu oraz rosnącą (a_dt>0) lub malejącą (a_dt<0)liczbę przypadków<br>\n",
    "5)wyznaczenie prognozowanej liczby przypadków ze wzoru: <br>\n",
    "    prognoza=ostatni_dzień + 7a_dt(ostatni_dzień/średnia) <br>\n",
    "6)od piątku do środy kroki 4 i 5 są wykonywane 2 razy (potrzeba dodatkowego prognozowania zakażeń od 14.04 do 19.04)<br>\n",
    "7)dla czwratku po pierwszym korku odrazu dostajemy zakażenia z 20.04<br>\n",
    "8)zakażenia od 14.04 do 26.04 są wypisane w ostatniej komórce<br>\n",
    "\n",
    "Wnioski:<br>\n",
    "-Wielkanoc, która była, trochę zaniży przewidywane zachorowania z poniedziałku i może wtorku<br>\n",
    "\n",
    "Bibliografia:<br>\n",
    "dane pobraliśmy ze strony:<br>\n",
    "https://www.gov.pl/web/koronawirus/wykaz-zarazen-koronawirusem-sars-cov-2"
   ]
  },
  {
   "cell_type": "code",
   "execution_count": 16,
   "metadata": {},
   "outputs": [],
   "source": [
    "from glob import glob\n",
    "import zipfile\n",
    "import pandas as pd\n",
    "\n",
    "# Wypakowanie pliku ZIP\n",
    "with zipfile.ZipFile('1_Łucki_Fonferek_dane.zip', 'r') as zip_ref:\n",
    "    zip_ref.extractall('.')\n",
    "\n",
    "nazwy_plikow = glob(\"*.csv\")\n",
    "\n",
    "liczba_przypadkow = []\n",
    "\n",
    "#wczytanie danych z plikow\n",
    "for i in range(0, len(nazwy_plikow)):\n",
    "    adres = nazwy_plikow[i]\n",
    "    try:\n",
    "        tabela = pd.read_csv(adres, sep=';') #dla i => 25 blad UnicodeDecodeError\n",
    "    except UnicodeDecodeError:\n",
    "        tabela = pd.read_csv(adres, sep=';', encoding='iso-8859-2')\n",
    "    a = tabela.iloc[0,1]\n",
    "    liczba_przypadkow.append(a)\n",
    "#0-wt, 1-śr, 2-czw, 3-pt, 4-sob, 5-ndz, 6-pn\n",
    "\n",
    "#segregacja wynikow ze wzgledu na dni tygodnia\n",
    "wtorek = []\n",
    "i=0\n",
    "while i<len(liczba_przypadkow):\n",
    "    wtorek.append(liczba_przypadkow[i])\n",
    "    i=i+7\n",
    "\n",
    "sroda = []\n",
    "i=1\n",
    "while i<len(liczba_przypadkow):\n",
    "    sroda.append(liczba_przypadkow[i])\n",
    "    i=i+7\n",
    "    \n",
    "#tablica z czwartkow\n",
    "czwartek = []\n",
    "i = 2\n",
    "while i<len(liczba_przypadkow):\n",
    "    czwartek.append(liczba_przypadkow[i])\n",
    "    i=i+7\n",
    "\n",
    "#tablica z piatek\n",
    "piatek =[]\n",
    "i = 3\n",
    "while i<len(liczba_przypadkow):\n",
    "    piatek.append(liczba_przypadkow[i])\n",
    "    i=i+7\n",
    "\n",
    "#tablica z soboty\n",
    "sobota =[]\n",
    "i = 4\n",
    "while i<len(liczba_przypadkow):\n",
    "    sobota.append(liczba_przypadkow[i])\n",
    "    i=i+7\n",
    "#tablica z niedzieli\n",
    "\n",
    "niedziela =[]\n",
    "i = 5\n",
    "while i<len(liczba_przypadkow):\n",
    "    niedziela.append(liczba_przypadkow[i])\n",
    "    i=i+7\n",
    "    \n",
    "poniedzialek = []\n",
    "i = 6\n",
    "while i<len(liczba_przypadkow):\n",
    "    poniedzialek.append(liczba_przypadkow[i])\n",
    "    i=i+7\n",
    "\n",
    "#print(len(czwartek))\n",
    "    "
   ]
  },
  {
   "cell_type": "code",
   "execution_count": 17,
   "metadata": {},
   "outputs": [
    {
     "name": "stdout",
     "output_type": "stream",
     "text": [
      "779.3758075217377\n"
     ]
    }
   ],
   "source": [
    "#czwartek\n",
    "srednia_czw=0\n",
    "\n",
    "#liczenie sredniej z poprzedniego roku\n",
    "for i in range(len(czwartek)-(53+4),len(czwartek)-(53-4)):\n",
    "    srednia_czw=srednia_czw+czwartek[i]\n",
    "    \n",
    "srednia_czw = srednia_czw/8\n",
    "\n",
    "#wspolczynnik a jako roznica liczby zakazen w zeszlym roku\n",
    "a_czw = (czwartek[len(czwartek)-53]-czwartek[len(czwartek)-54])/7\n",
    "\n",
    "#obliczenie prognozowanej liczby zakazen\n",
    "czwartek_prognoza=czwartek[len(czwartek)-1]+7*a_czw*czwartek[len(czwartek)-1]/srednia_czw\n",
    "print(czwartek_prognoza)"
   ]
  },
  {
   "cell_type": "code",
   "execution_count": 18,
   "metadata": {},
   "outputs": [
    {
     "name": "stdout",
     "output_type": "stream",
     "text": [
      "672.355919583023\n",
      "543.5212523575336\n"
     ]
    }
   ],
   "source": [
    "#piatek(14.04.2023)\n",
    "srednia_pt=0\n",
    "\n",
    "#liczenie sredniej z poprzedniego roku\n",
    "for i in range(len(piatek)-(52+4),len(piatek)-(52-4)):\n",
    "    srednia_pt=srednia_pt+piatek[i]\n",
    "    #j=j+1\n",
    "srednia_pt = srednia_pt/8\n",
    "\n",
    "#wspolczynnik a jako roznica liczby zakazen w zeszlym roku\n",
    "a_pt = (piatek[len(piatek)-52]-piatek[len(piatek)-53])/7\n",
    "\n",
    "#tabela, w ktorej beda zapisane prognozowane wyniki dla piatku\n",
    "piatek_prognoza=[0, 0]\n",
    "\n",
    "#obliczenie prognozowanej liczby zakazen\n",
    "piatek_prognoza[0]=piatek[len(piatek)-1]+7*a_pt*piatek[len(piatek)-1]/srednia_pt\n",
    "\n",
    "print(piatek_prognoza[0])\n",
    "\n",
    "#i znowu to samo co wyzej, tylko srednia jest liczona z innych tygodni (przesuniecie o 1 tydzien do przodu)\n",
    "#piatek 21.04.2023\n",
    "srednia_pt=0\n",
    "for i in range(len(piatek)-(52+3),len(piatek)-(52-5)):\n",
    "    srednia_pt=srednia_pt+piatek[i]\n",
    "    #j=j+1\n",
    "srednia_pt = (srednia_pt)/8\n",
    "a_pt = (piatek[len(piatek)-51]-piatek[len(piatek)-52])/7\n",
    "\n",
    "piatek_prognoza[1]=piatek_prognoza[0]+7*a_pt*piatek_prognoza[0]/srednia_pt\n",
    "print(piatek_prognoza[1])"
   ]
  },
  {
   "cell_type": "code",
   "execution_count": 19,
   "metadata": {},
   "outputs": [
    {
     "name": "stdout",
     "output_type": "stream",
     "text": [
      "795.6098603373273\n",
      "483.480236236159\n"
     ]
    }
   ],
   "source": [
    "#teraz dla pozostalych dni tygodnia robimy to samo co dla piatku\n",
    "\n",
    "#sobota(15.04.2023)\n",
    "srednia_sob=0\n",
    "\n",
    "for i in range(len(sobota)-(52+4),len(sobota)-(52-4)):\n",
    "    srednia_sob=srednia_sob+sobota[i]\n",
    "    #j=j+1\n",
    "srednia_sob = srednia_sob/8\n",
    "\n",
    "a_sob = (sobota[len(sobota)-52]-sobota[len(sobota)-53])/7\n",
    "sobota_prognoza=[0, 0]\n",
    "\n",
    "sobota_prognoza[0]=sobota[len(sobota)-1]+7*a_sob*sobota[len(sobota)-1]/srednia_sob\n",
    "\n",
    "\n",
    "print(sobota_prognoza[0])\n",
    "\n",
    "\n",
    "#sobota 22.04.2023\n",
    "srednia_sob=0\n",
    "for i in range(len(sobota)-(52+3),len(sobota)-(52-5)):\n",
    "    srednia_sob=srednia_sob+sobota[i]\n",
    "srednia_sob = (srednia_sob)/8\n",
    "\n",
    "a_sob = (sobota[len(sobota)-51]-sobota[len(sobota)-52])/7\n",
    "\n",
    "sobota_prognoza[1]=sobota_prognoza[0]+7*a_sob*sobota_prognoza[0]/srednia_sob\n",
    "print(sobota_prognoza[1])"
   ]
  },
  {
   "cell_type": "code",
   "execution_count": 20,
   "metadata": {},
   "outputs": [
    {
     "name": "stdout",
     "output_type": "stream",
     "text": [
      "96.85788361820626\n",
      "59.629417752706345\n"
     ]
    }
   ],
   "source": [
    "#niedziela(16.04.2023)\n",
    "srednia_ndz=0\n",
    "\n",
    "for i in range(len(niedziela)-(52+4),len(niedziela)-(52-4)):\n",
    "    srednia_ndz=srednia_ndz+niedziela[i]\n",
    "    #j=j+1\n",
    "srednia_ndz = srednia_ndz/8\n",
    "\n",
    "a_ndz = (niedziela[len(niedziela)-52]-niedziela[len(niedziela)-53])/7\n",
    "niedziela_prognoza=[0, 0]\n",
    "\n",
    "niedziela_prognoza[0]=niedziela[len(niedziela)-1]+7*a_ndz*niedziela[len(niedziela)-1]/srednia_ndz\n",
    "\n",
    "\n",
    "print(niedziela_prognoza[0])\n",
    "\n",
    "\n",
    "#niedziela 23.04.2023\n",
    "srednia_ndz=0\n",
    "for i in range(len(niedziela)-(52+3),len(niedziela)-(52-5)):\n",
    "    srednia_ndz=srednia_ndz+niedziela[i]\n",
    "srednia_ndz = (srednia_ndz)/8\n",
    "\n",
    "a_ndz = (niedziela[len(niedziela)-51]-niedziela[len(niedziela)-52])/7\n",
    "\n",
    "niedziela_prognoza[1]=niedziela_prognoza[0]+7*a_ndz*niedziela_prognoza[0]/srednia_ndz\n",
    "print(niedziela_prognoza[1])"
   ]
  },
  {
   "cell_type": "code",
   "execution_count": 21,
   "metadata": {},
   "outputs": [
    {
     "name": "stdout",
     "output_type": "stream",
     "text": [
      "87.72303356392518\n",
      "58.53067630471547\n"
     ]
    }
   ],
   "source": [
    "#poniedzialek(17.04.2023)\n",
    "srednia_pn=0\n",
    "\n",
    "for i in range(len(poniedzialek)-(52+4),len(poniedzialek)-(52-4)):\n",
    "    srednia_pn=srednia_pn+poniedzialek[i]\n",
    "    #j=j+1\n",
    "srednia_pn = srednia_pn/8\n",
    "\n",
    "a_pn = (poniedzialek[len(poniedzialek)-52]-poniedzialek[len(poniedzialek)-53])/7\n",
    "poniedzialek_prognoza=[0, 0]\n",
    "\n",
    "poniedzialek_prognoza[0]=poniedzialek[len(poniedzialek)-1]+7*a_pn*poniedzialek[len(poniedzialek)-1]/srednia_pn\n",
    "\n",
    "\n",
    "print(poniedzialek_prognoza[0])\n",
    "\n",
    "\n",
    "#poniedzialek 24.04.2023\n",
    "srednia_pn=0\n",
    "for i in range(len(poniedzialek)-(52+3),len(poniedzialek)-(52-5)):\n",
    "    srednia_pn=srednia_pn+poniedzialek[i]\n",
    "srednia_pn = (srednia_pn)/8\n",
    "\n",
    "a_pn = (poniedzialek[len(poniedzialek)-51]-poniedzialek[len(poniedzialek)-52])/7\n",
    "\n",
    "poniedzialek_prognoza[1]=poniedzialek_prognoza[0]+7*a_pn*poniedzialek_prognoza[0]/srednia_pn\n",
    "print(poniedzialek_prognoza[1])"
   ]
  },
  {
   "cell_type": "code",
   "execution_count": 22,
   "metadata": {},
   "outputs": [
    {
     "name": "stdout",
     "output_type": "stream",
     "text": [
      "1231.152520740268\n",
      "623.941264623483\n"
     ]
    }
   ],
   "source": [
    "#wtorek(18.04.2023)\n",
    "srednia_wt=0\n",
    "\n",
    "for i in range(len(wtorek)-(52+4),len(wtorek)-(52-4)):\n",
    "    srednia_wt=srednia_wt+wtorek[i]\n",
    "srednia_wt = srednia_wt/8\n",
    "\n",
    "a_wt = (wtorek[len(wtorek)-52]-wtorek[len(wtorek)-53])/7\n",
    "wtorek_prognoza=[0, 0]\n",
    "\n",
    "wtorek_prognoza[0]=wtorek[len(wtorek)-1]+7*a_wt*wtorek[len(wtorek)-1]/srednia_wt\n",
    "\n",
    "\n",
    "print(wtorek_prognoza[0])\n",
    "\n",
    "\n",
    "#wtorek 25.04.2023\n",
    "srednia_wt=0\n",
    "for i in range(len(wtorek)-(52+3),len(wtorek)-(52-5)):\n",
    "    srednia_wt=srednia_wt+wtorek[i]\n",
    "srednia_wt = (srednia_wt)/8\n",
    "\n",
    "a_wt = (wtorek[len(wtorek)-51]-wtorek[len(wtorek)-52])/7\n",
    "\n",
    "wtorek_prognoza[1]=wtorek_prognoza[0]+7*a_wt*wtorek_prognoza[0]/srednia_wt\n",
    "print(wtorek_prognoza[1])"
   ]
  },
  {
   "cell_type": "code",
   "execution_count": 23,
   "metadata": {},
   "outputs": [
    {
     "name": "stdout",
     "output_type": "stream",
     "text": [
      "1146.0104000000001\n",
      "779.0535540070955\n"
     ]
    }
   ],
   "source": [
    "#sroda(19.04.2023)\n",
    "srednia_sr=0\n",
    "\n",
    "for i in range(len(sroda)-(52+4),len(sroda)-(52-4)):\n",
    "    srednia_sr=srednia_sr+sroda[i]\n",
    "    #j=j+1\n",
    "srednia_sr = srednia_sr/8\n",
    "a_sr = (sroda[len(sroda)-52]-sroda[len(sroda)-53])/7\n",
    "sroda_prognoza=[0, 0]\n",
    "\n",
    "sroda_prognoza[0]=sroda[len(sroda)-1]+7*a_sr*sroda[len(sroda)-1]/srednia_sr\n",
    "\n",
    "\n",
    "print(sroda_prognoza[0])\n",
    "\n",
    "\n",
    "#sroda 26.04.2023\n",
    "srednia_sr=0\n",
    "for i in range(len(sroda)-(52+3),len(sroda)-(52-5)):\n",
    "    srednia_sr=srednia_sr+sroda[i]\n",
    "srednia_sr = (srednia_sr)/8\n",
    "a_sr = (sroda[len(sroda)-51]-sroda[len(sroda)-52])/7\n",
    "\n",
    "sroda_prognoza[1]=sroda_prognoza[0]+7*a_sr*sroda_prognoza[0]/srednia_sr\n",
    "print(sroda_prognoza[1])"
   ]
  },
  {
   "cell_type": "code",
   "execution_count": 24,
   "metadata": {},
   "outputs": [
    {
     "name": "stdout",
     "output_type": "stream",
     "text": [
      "Prognoza na 14.04.2023: 672\n",
      "Prognoza na 15.04.2023: 795\n",
      "Prognoza na 16.04.2023: 96\n",
      "Prognoza na 17.04.2023: 87\n",
      "Prognoza na 18.04.2023: 1231\n",
      "Prognoza na 19.04.2023: 1146\n",
      "Prognoza na 20.04.2023: 779\n",
      "Prognoza na 21.04.2023: 543\n",
      "Prognoza na 22.04.2023: 483\n",
      "Prognoza na 23.04.2023: 59\n",
      "Prognoza na 24.04.2023: 58\n",
      "Prognoza na 25.04.2023: 623\n",
      "Prognoza na 26.04.2023: 779\n"
     ]
    }
   ],
   "source": [
    "#wynik końcowy\n",
    "import math\n",
    "\n",
    "#tworzymy macierz, w ktorej beda zapisane wszystkie prognozowane wyniki w kolejnosci chronologicznej\n",
    "liczba_przypadkow_przewidywana = []\n",
    "for i in range(0,2):\n",
    "    liczba_przypadkow_przewidywana.append(math.floor(piatek_prognoza[i]))\n",
    "    liczba_przypadkow_przewidywana.append(math.floor(sobota_prognoza[i]))\n",
    "    liczba_przypadkow_przewidywana.append(math.floor(niedziela_prognoza[i]))\n",
    "    liczba_przypadkow_przewidywana.append(math.floor(poniedzialek_prognoza[i]))\n",
    "    liczba_przypadkow_przewidywana.append(math.floor(wtorek_prognoza[i]))\n",
    "    liczba_przypadkow_przewidywana.append(math.floor(sroda_prognoza[i]))\n",
    "    if i==0:\n",
    "        liczba_przypadkow_przewidywana.append(math.floor(czwartek_prognoza)) #prognozowalismy tylko jeden czwartek\n",
    "\n",
    "#wypisujemy wyniki\n",
    "for i in range(0, len(liczba_przypadkow_przewidywana)):\n",
    "    print('Prognoza na ' + str(i + 14) + '.04.2023: '+ str(liczba_przypadkow_przewidywana[i]))"
   ]
  },
  {
   "cell_type": "code",
   "execution_count": null,
   "metadata": {},
   "outputs": [],
   "source": []
  },
  {
   "cell_type": "code",
   "execution_count": null,
   "metadata": {},
   "outputs": [],
   "source": []
  }
 ],
 "metadata": {
  "kernelspec": {
   "display_name": "Python 3 (ipykernel)",
   "language": "python",
   "name": "python3"
  },
  "language_info": {
   "codemirror_mode": {
    "name": "ipython",
    "version": 3
   },
   "file_extension": ".py",
   "mimetype": "text/x-python",
   "name": "python",
   "nbconvert_exporter": "python",
   "pygments_lexer": "ipython3",
   "version": "3.8.5"
  }
 },
 "nbformat": 4,
 "nbformat_minor": 4
}
